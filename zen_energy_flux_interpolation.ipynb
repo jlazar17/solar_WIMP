{
 "cells": [
  {
   "cell_type": "code",
   "execution_count": 2,
   "metadata": {},
   "outputs": [],
   "source": [
    "import numpy as np\n",
    "# from scipy.stats import gaussian_kde as kde\n",
    "from scipy.interpolate import griddata\n",
    "from scipy.interpolate import interp2d\n",
    "from scipy.interpolate import RectBivariateSpline\n",
    "\n",
    "import matplotlib.pyplot as plt\n",
    "plt.style.use(\"paper.mplstyle\")\n",
    "\n",
    "from physicsconstants import PhysicsConstants"
   ]
  },
  {
   "cell_type": "code",
   "execution_count": 3,
   "metadata": {},
   "outputs": [],
   "source": [
    "pc = PhysicsConstants()\n",
    "\n",
    "GeV = pc.GeV\n",
    "sec = pc.sec\n",
    "pbarn = pc.picobarn\n",
    "au = 1.496e+13 # cm\n",
    "solar_angle = 6.807e-5 # steradian "
   ]
  },
  {
   "cell_type": "code",
   "execution_count": 4,
   "metadata": {
    "code_folding": []
   },
   "outputs": [],
   "source": [
    "ms            = np.array([100, 250, 500, 1000, 3000, 5000, 10000])\n",
    "chans         = [\"bb\", \"WW\", \"tautau\"]\n",
    "ws_chans      = [5, 8, 11]\n",
    "ws_chan_dict  = {chans[i]:ws_chans[i] for i in range(3)}\n",
    "\n",
    "si_ann_rate_dict = {500   : 4.5418315143731186e+27,\n",
    "                    1000  : 1.3457320571730637e+27,\n",
    "                    3000  : 1.674577361367118e+26,\n",
    "                    5000  : 6.160055092277992e+25,\n",
    "                    10000 : 1.5644775205377196e+25\n",
    "                   } # 1/sec (xs=1 pb)\n",
    "\n",
    "sd_ann_rate_dict = {500   : 6.697084065971152e+24,\n",
    "                    1000  : 1.679607455216801e+24,\n",
    "                    3000  : 1.8680716988310504e+23,\n",
    "                    5000  : 6.7252930524968645e+22,\n",
    "                    10000 : 1.681276619465538e+22\n",
    "                   } # 1/sec (xs=1 pb)\n",
    "\n",
    "bb_sd_limit      = np.array([3.29e-03, 2.80e-03, 3.06e-03, 2.59e-03, 6.76e-03, 1.58e-02, 5.27e-02]) # picobarns\n",
    "ww_sd_limit      = np.array([9.52e-05, 5.30e-05, 3.76e-05, 6.80e-05, 5.42e-04, 1.37e-03, 5.96e-03]) # picobarns\n",
    "tt_sd_limit      = np.array([2.91e-05, 2.82e-05, 1.46e-05, 2.07e-05, 1.21e-04, 3.28e-04, 1.40e-03]) # picobarns\n",
    "bb_sd_limit_dict = {ms[i]:bb_sd_limit[i] for i in range(len(ms))}\n",
    "ww_sd_limit_dict = {ms[i]:ww_sd_limit[i] for i in range(len(ms))}\n",
    "tt_sd_limit_dict = {ms[i]:tt_sd_limit[i] for i in range(len(ms))}\n",
    "sd_limit_dict    = {\"bb\":bb_sd_limit_dict, \"WW\":ww_sd_limit_dict, \"tautau\":tt_sd_limit_dict}\n",
    "\n",
    "bb_si_limit = np.array([7.38e-06, 3.50e-06, 2.82e-06, 2.00e-06, 4.65e-06, 1.06e-05, 3.46e-05]) # picobarns\n",
    "ww_si_limit = np.array([2.13e-07, 6.62e-08, 3.49e-08, 5.28e-08, 3.70e-07, 9.14e-07, 3.88e-06]) # picobarns\n",
    "tt_si_limit = np.array([6.48e-08, 3.52e-08, 1.35e-08, 1.60e-08, 8.25e-08, 2.19e-07, 9.11e-07]) # picobarns\n",
    "bb_si_limit_dict = {ms[i]:bb_si_limit[i] for i in range(len(ms))}\n",
    "ww_si_limit_dict = {ms[i]:ww_si_limit[i] for i in range(len(ms))}\n",
    "tt_si_limit_dict = {ms[i]:tt_si_limit[i] for i in range(len(ms))}\n",
    "si_limit_dict    = {\"bb\":bb_si_limit_dict, \"WW\":ww_si_limit_dict, \"tautau\":tt_si_limit_dict}\n",
    "xs_limit_dict = {}\n",
    "xs_limit_dict[\"si\"] = si_limit_dict\n",
    "xs_limit_dict[\"sd\"] = sd_limit_dict"
   ]
  },
  {
   "cell_type": "code",
   "execution_count": 5,
   "metadata": {},
   "outputs": [],
   "source": [
    "zens  = np.linspace(80, 180, 101)\n",
    "e_min = 1"
   ]
  },
  {
   "cell_type": "code",
   "execution_count": 6,
   "metadata": {},
   "outputs": [],
   "source": [
    "def get_min_i(dn_dz):\n",
    "    nu_ins = []\n",
    "    for arr in dn_dz[0]:\n",
    "        nu_ins.append(min(np.where(~(arr>0))[0]))\n",
    "    nu_bar_ins = []\n",
    "    for arr in dn_dz[1]:\n",
    "        nu_bar_ins.append(min(np.where(~(arr>0))[0]))\n",
    "    print(min(nu_ins), min(nu_bar_ins))\n",
    "    \n",
    "    return min(nu_ins), min(nu_bar_ins)"
   ]
  },
  {
   "cell_type": "code",
   "execution_count": 14,
   "metadata": {},
   "outputs": [],
   "source": [
    "def interp_dn_dz(ch, m):\n",
    "    \n",
    "    n_zen = 101\n",
    "    n_en  = 200\n",
    "    ee = np.linspace(e_min, m, n_en)\n",
    "    zens  = np.linspace(80, 180, n_zen)\n",
    "    \n",
    "    ws_ch = ws_chan_dict[ch]\n",
    "    \n",
    "    # Load data files\n",
    "    dN_dz  = np.load(\"/data/user/jlazar/solar_WIMP/data/qr_dn_dz/ch%d_m%d_dn_dz.npy\" % (ws_ch, m))\n",
    "    mnui, mnubari = get_min_i(dN_dz)\n",
    "    mc     = np.load(\"/data/user/jlazar/solar_WIMP/data/mcRecarray.npy\")\n",
    "    \n",
    "    # Get all quantities from dN_dE file arranged\n",
    "    nu_flux     = dN_dz[0][:,:mnui]\n",
    "    nu_bar_flux = dN_dz[1][:,:mnubari]\n",
    "    es_nu       = np.tile(np.linspace(e_min, m, n_en), n_zen)[:mnui]\n",
    "    es_nu_bar   = np.tile(np.linspace(e_min, m, n_en), n_zen)[:mnubari]\n",
    "    zs          = np.concatenate([np.full(n_en, zen) for zen in zens])\n",
    "    \n",
    "    # Get all mc quantities ready\n",
    "    nu_i           = np.where(mc[\"i\"]==14)[0]\n",
    "    nu_bar_i       = np.where(mc[\"i\"]==-14)[0]\n",
    "    nu_e           = mc[\"nuE\"][nu_i]\n",
    "    nu_bar_e       = mc[\"nuE\"][nu_bar_i]\n",
    "    nu_zen         = np.degrees(mc[\"nuZen\"][nu_i])\n",
    "    nu_bar_zen     = np.degrees(mc[\"nuZen\"][nu_bar_i])\n",
    "    \n",
    "    \n",
    "#     # Prepare points and values arrays\n",
    "#     nu_points     = np.vstack([es_nu, zs]).T\n",
    "#     nu_bar_points = np.vstack([es_nu_bar, zs]).T\n",
    "#     nu_values     = np.log10(np.concatenate(nu_flux))\n",
    "#     nu_bar_values = np.log10(np.concatenate(nu_bar_flux))\n",
    "\n",
    "#     # Replace -infinities from log(0) with large neg values\n",
    "#     nu_values[np.where(np.isinf(nu_values))]         = -500\n",
    "#     nu_bar_values[np.where(np.isinf(nu_bar_values))] = -500\n",
    "    \n",
    "    # Interpolate\n",
    "    nu_f           = RectBivariateSpline(zens, es_nu,     np.log10(nu_flux))\n",
    "    nu_bar_f       = RectBivariateSpline(zens, es_nu_bar, np.log10(nu_bar_flux))\n",
    "    nu_interp      = np.zeros(len(nu_e))\n",
    "    nu_bar_interp      = np.zeros(len(nu_bar_e))\n",
    "    for i in range(len(nu_e)):\n",
    "        nu_interp[i]      = np.power(10, nu_f(nu_zen[i], nu_e[i]))\n",
    "    for i in range(len(nu_bar_e)):\n",
    "        nu_bar_interp[i]  = np.power(10, nu_bar_f(nu_bar_zen[i], nu_bar_e[i]))\n",
    "        \n",
    "    nu_interp[np.where(nu_e>es_nu[-1])[0]]         = 0\n",
    "    nu_bar_interp[np.where(nu_bar_e>es_nu_bar[-1])[0]] = 0\n",
    "    \n",
    "#     # Save interpolated fluxes\n",
    "    mc_flux           = np.zeros(len(mc[\"i\"]))\n",
    "    mc_flux[nu_i]     = nu_interp\n",
    "    mc_flux[nu_bar_i] = nu_bar_interp\n",
    "    mc_flux[np.where(np.isnan(mc_flux))] = 0\n",
    "    np.save(\"/data/user/jlazar/solar_WIMP/data/mc_dn_dz/ch%d_m%d_mc_dn_dz_bivariate_spline.npy\" % (ws_ch, m), mc_flux)\n",
    "    return mc_flux"
   ]
  },
  {
   "cell_type": "code",
   "execution_count": 15,
   "metadata": {},
   "outputs": [
    {
     "name": "stdout",
     "output_type": "stream",
     "text": [
      "(181, 183)\n",
      "(175, 173)\n",
      "(176, 174)\n",
      "(92, 152)\n",
      "(95, 135)\n",
      "(70, 170)\n"
     ]
    }
   ],
   "source": [
    "for m in [300, 500, 1000, 3000, 5000, 10000]:\n",
    "    _ = interp_dn_dz(\"bb\", m)"
   ]
  },
  {
   "cell_type": "code",
   "execution_count": 11,
   "metadata": {},
   "outputs": [
    {
     "name": "stdout",
     "output_type": "stream",
     "text": [
      "[0.00000000e+00 1.34274148e-05 0.00000000e+00 9.07129546e-02\n",
      " 4.52492800e-09 0.00000000e+00 1.29563232e-07 0.00000000e+00\n",
      " 9.60845481e-06 1.49038272e-02 1.15560781e-04 1.07460803e-04\n",
      " 0.00000000e+00 1.26409575e-06 4.03795667e-04 0.00000000e+00\n",
      " 4.03240200e-02 0.00000000e+00 5.12523479e-01 1.99079208e-02\n",
      " 9.31360625e-01 1.02900319e-04 0.00000000e+00 0.00000000e+00\n",
      " 0.00000000e+00 2.84208220e-02 0.00000000e+00 3.43764185e-06\n",
      " 0.00000000e+00 4.84531775e-08 2.85572538e-03 1.55676224e-09\n",
      " 2.18432095e-03 5.18370481e-08 6.58122706e-03 4.43261444e-05\n",
      " 2.17585606e-03 1.20613446e-02 6.97580039e-03 2.41273398e-02\n",
      " 9.24885435e-02 3.59016354e-01 8.11734972e-06 1.09865198e-01\n",
      " 0.00000000e+00 2.49188636e-03 2.46754097e-09 0.00000000e+00\n",
      " 7.15847933e-06 0.00000000e+00]\n",
      "[ 8049.89692873  1673.74499285 10903.75582265   470.24372207\n",
      "  3006.3663372   5137.73378848  2355.64897854  3695.18380632\n",
      "  1695.6076471    701.87596039  1367.34776284  1395.09650121\n",
      "  8511.8256769   2003.19773747  1207.01664183 10453.96293299\n",
      "   568.74574474  5939.67839063   264.714607     675.18816323\n",
      "   200.88369177  1402.46251719  3537.24506284 25599.57737468\n",
      " 20378.85340747   630.20427557 68170.28250116  1850.7455017\n",
      "  6341.09714701  2523.51710431   916.61375867  3233.47833684\n",
      "   964.27229296  2511.13002521   811.35831718  1520.63703626\n",
      "   965.53914512   718.95094083   795.06732302   654.27105268\n",
      "   467.15376384   311.88697593  1725.86375443   439.05708076\n",
      "  4354.71012674   935.50966598  3201.73664606  4770.39863868\n",
      "  1779.22828699  5130.12421641]\n"
     ]
    },
    {
     "data": {
      "image/png": "[encoded data removed]",
      "text/plain": [
       "<matplotlib.figure.Figure at 0x7f77f4e4bc10>"
      ]
     },
     "metadata": {},
     "output_type": "display_data"
    }
   ],
   "source": [
    "mc     = np.load(\"/data/user/jlazar/solar_WIMP/data/mcRecarray.npy\")\n",
    "    \n",
    "nu_i           = np.where(mc[\"i\"]==14)[0]\n",
    "nu_bar_i       = np.where(mc[\"i\"]==-14)[0]\n",
    "nu_e           = mc[\"nuE\"][nu_i]\n",
    "nu_bar_e       = mc[\"nuE\"][nu_bar_i]\n",
    "nu_zen         = np.degrees(mc[\"nuZen\"][nu_i])\n",
    "nu_bar_zen     = np.degrees(mc[\"nuZen\"][nu_bar_i])\n",
    "\n",
    "print(_[nu_i][:50])\n",
    "print(nu_e[:50])\n",
    "plt.plot(np.linspace(1,10000,200),np.load(\"/data/user/jlazar/solar_WIMP/data/qr_dn_dz/ch5_m10000_dn_dz.npy\")[0][0])\n",
    "plt.semilogy()\n",
    "plt.show()"
   ]
  },
  {
   "cell_type": "code",
   "execution_count": 71,
   "metadata": {},
   "outputs": [],
   "source": [
    "### Old interpolation method using griddata\n",
    "# def interp_dn_dz(ch, m):\n",
    "    \n",
    "#     ws_ch = ws_chan_dict[ch]\n",
    "    \n",
    "#     # Load data files\n",
    "#     dN_dz  = np.load(\"/data/user/jlazar/solar_WIMP/data/qr_dn_dz/ch%d_m%d_dn_dz.npy\" % (ws_ch, m))\n",
    "#     mc     = np.load(\"/data/user/jlazar/solar_WIMP/data/mcRecarray.npy\")\n",
    "    \n",
    "#     # Get all quantities from dN_dE file arranged\n",
    "#     nu_flux     = dN_dz[0]\n",
    "#     nu_bar_flux = dN_dz[1]\n",
    "#     n_zen       = nu_flux.shape[0]\n",
    "#     n_en        = nu_flux.shape[1]\n",
    "#     es          = np.tile(np.linspace(e_min, m, n_en), n_zen)\n",
    "#     zs          = np.concatenate([np.full(n_en, zen) for zen in zens])\n",
    "    \n",
    "#     # Get all mc quantities ready\n",
    "#     nu_i           = np.where(mc[\"i\"]==14)[0]\n",
    "#     nu_bar_i       = np.where(mc[\"i\"]==-14)[0]\n",
    "#     nu_e           = mc[\"nuE\"][nu_i]\n",
    "#     nu_bar_e       = mc[\"nuE\"][nu_bar_i]\n",
    "#     nu_zen         = np.degrees(mc[\"nuZen\"][nu_i])\n",
    "#     nu_bar_zen     = np.degrees(mc[\"nuZen\"][nu_bar_i])\n",
    "    \n",
    "    \n",
    "#     # Prepare points and values arrays\n",
    "#     points        = np.vstack([es,zs]).T\n",
    "#     nu_values     = np.log10(np.concatenate(nu_flux))\n",
    "#     nu_bar_values = np.log10(np.concatenate(nu_bar_flux))\n",
    "\n",
    "#     # Replace -infinities from log(0) with large neg values\n",
    "#     nu_values[np.where(np.isinf(nu_values))]         = -500\n",
    "#     nu_bar_values[np.where(np.isinf(nu_bar_values))] = -500\n",
    "    \n",
    "#     # Interpolate\n",
    "#     nu_gd          = griddata(points, nu_values,     (nu_e, nu_zen),         method=\"linear\")\n",
    "#     nu_bar_gd      = griddata(points, nu_bar_values, (nu_bar_e, nu_bar_zen), method=\"linear\")\n",
    "#     nu_interp      = np.power(10, nu_gd)\n",
    "#     nu_bar_interp  = np.power(10, nu_bar_gd)\n",
    "        \n",
    "#     nu_interp[np.where(nu_e>m)[0]]         = 0\n",
    "#     nu_bar_interp[np.where(nu_bar_e>m)[0]] = 0\n",
    "    \n",
    "#     # Save interpolated fluxes\n",
    "#     mc_flux           = np.zeros(len(mc[\"i\"]))\n",
    "#     mc_flux[nu_i]     = nu_interp\n",
    "#     mc_flux[nu_bar_i] = nu_bar_interp\n",
    "#     mc_flux[np.where(np.isnan(mc_flux))] = 0\n",
    "#     np.save(\"/data/user/jlazar/solar_WIMP/data/qr_dn_dz/ch%d_m%d_mc_dn_dz.npy\" % (ws_ch, m), mc_flux)\n",
    "#     return mc_flux"
   ]
  },
  {
   "cell_type": "code",
   "execution_count": null,
   "metadata": {},
   "outputs": [],
   "source": []
  },
  {
   "cell_type": "code",
   "execution_count": null,
   "metadata": {},
   "outputs": [],
   "source": []
  },
  {
   "cell_type": "code",
   "execution_count": 48,
   "metadata": {},
   "outputs": [],
   "source": [
    "def get_mi"
   ]
  },
  {
   "cell_type": "code",
   "execution_count": 49,
   "metadata": {},
   "outputs": [
    {
     "name": "stderr",
     "output_type": "stream",
     "text": [
      "/Users/jlazar/anaconda3/lib/python3.6/site-packages/ipykernel_launcher.py:2: RuntimeWarning: divide by zero encountered in log10\n",
      "  \n",
      "/Users/jlazar/anaconda3/lib/python3.6/site-packages/ipykernel_launcher.py:2: RuntimeWarning: invalid value encountered in log10\n",
      "  \n"
     ]
    }
   ],
   "source": [
    "def interp_dn_dz(ch, m):\n",
    "    \n",
    "    n_zen = 101\n",
    "    n_en  = 200\n",
    "    ee = np.linspace(e_min, m, n_en)\n",
    "    zens  = np.linspace(80, 180, n_zen)\n",
    "    \n",
    "    ws_ch = ws_chan_dict[ch]\n",
    "    \n",
    "    # Load data files\n",
    "    dN_dz  = np.load(\"/data/user/jlazar/solar_WIMP/data/qr_dn_dz/ch%d_m%d_dn_dz.npy\" % (ws_ch, m))\n",
    "    mc     = np.load(\"/data/user/jlazar/solar_WIMP/data/mcRecarray.npy\")\n",
    "    \n",
    "    # Get all quantities from dN_dE file arranged\n",
    "    nu_flux     = dN_dz[0]\n",
    "    nu_bar_flux = dN_dz[1]\n",
    "    es          = np.tile(np.linspace(e_min, m, n_en), n_zen)\n",
    "    zs          = np.concatenate([np.full(n_en, zen) for zen in zens])\n",
    "    \n",
    "    # Get all mc quantities ready\n",
    "    nu_i           = np.where(mc[\"i\"]==14)[0]\n",
    "    nu_bar_i       = np.where(mc[\"i\"]==-14)[0]\n",
    "    nu_e           = mc[\"nuE\"][nu_i]\n",
    "    nu_bar_e       = mc[\"nuE\"][nu_bar_i]\n",
    "    nu_zen         = np.degrees(mc[\"nuZen\"][nu_i])\n",
    "    nu_bar_zen     = np.degrees(mc[\"nuZen\"][nu_bar_i])\n",
    "    \n",
    "    \n",
    "    # Prepare points and values arrays\n",
    "    points        = np.vstack([es,zs]).T\n",
    "    nu_values     = np.log10(np.concatenate(nu_flux))\n",
    "    nu_bar_values = np.log10(np.concatenate(nu_bar_flux))\n",
    "\n",
    "    # Replace -infinities from log(0) with large neg values\n",
    "    nu_values[np.where(np.isinf(nu_values))]         = -500\n",
    "    nu_bar_values[np.where(np.isinf(nu_bar_values))] = -500\n",
    "    \n",
    "    # Interpolate\n",
    "    nu_gd          = griddata(points, nu_values,     (nu_e, nu_zen),         method=\"linear\")\n",
    "    nu_bar_gd      = griddata(points, nu_bar_values, (nu_bar_e, nu_bar_zen), method=\"linear\")\n",
    "    nu_interp      = np.power(10, nu_gd)\n",
    "    nu_bar_interp  = np.power(10, nu_bar_gd)\n",
    "        \n",
    "    nu_interp[np.where(nu_e>m)[0]]         = 0\n",
    "    nu_bar_interp[np.where(nu_bar_e>m)[0]] = 0\n",
    "    \n",
    "    # Save interpolated fluxes\n",
    "    mc_flux           = np.zeros(len(mc[\"i\"]))\n",
    "    mc_flux[nu_i]     = nu_interp\n",
    "    mc_flux[nu_bar_i] = nu_bar_interp\n",
    "    mc_flux[np.where(np.isnan(mc_flux))] = 0\n",
    "    np.save(\"/data/user/jlazar/solar_WIMP/data/qr_dn_dz/ch%d_m%d_mc_dn_dz_bivariate_spline.npy\" % (ws_ch, m), mc_flux)\n",
    "    return mc_flux"
   ]
  },
  {
   "cell_type": "code",
   "execution_count": 71,
   "metadata": {},
   "outputs": [
    {
     "data": {
      "text/plain": [
       "array(nan)"
      ]
     },
     "execution_count": 71,
     "metadata": {},
     "output_type": "execute_result"
    }
   ],
   "source": [
    "np.power(10, griddata(points, values, (2511.13002521, 21.68800973), method=\"linear\"))\n",
    "\n",
    "griddata(points, values, (2511.13002521, 21.68800973))"
   ]
  },
  {
   "cell_type": "code",
   "execution_count": 1,
   "metadata": {},
   "outputs": [],
   "source": [
    "# def interp_flux(ch, m):\n",
    "    \n",
    "#     ws_ch = ws_chan_dict[ch]\n",
    "    \n",
    "#     # Load data files\n",
    "#     dN_dE  = np.load(\"/Users/jlazar/Downloads/ch%d_m%d_flux.npy\" % (ws_ch, m))\n",
    "#     mc     = np.load(\"/Users/jlazar/Documents/IceCube/data/mcRecarray.npy\")\n",
    "    \n",
    "#     # Get all quantities from dN_dE file arranged\n",
    "#     flux        = dN_dE * (1./(4*np.pi*au**2)) * sd_ann_rate_dict[m] * sd_limit_dict[ch][m] / solar_angle\n",
    "#     nu_flux     = flux[0]\n",
    "#     nu_bar_flux = flux[1]\n",
    "#     n_zen       = nu_flux.shape[0]\n",
    "#     n_en        = nu_flux.shape[1]\n",
    "#     es          = np.tile(np.linspace(e_min, m, n_en), n_zen)\n",
    "#     zs          = np.concatenate([np.full(n_en, zen) for zen in zens])\n",
    "    \n",
    "#     # Get all mc quantities ready\n",
    "#     nu_i           = np.where(mc[\"i\"]==14)[0]\n",
    "#     nu_bar_i       = np.where(mc[\"i\"]==-14)[0]\n",
    "#     nu_e           = mc[\"nuE\"][nu_i]\n",
    "#     nu_bar_e       = mc[\"nuE\"][nu_bar_i]\n",
    "#     nu_zen         = np.degrees(mc[\"nuZen\"][nu_i])\n",
    "#     nu_bar_zen     = np.degrees(mc[\"nuZen\"][nu_bar_i])\n",
    "    \n",
    "    \n",
    "#     # Prepare points and values arrays\n",
    "#     points        = np.vstack([es,zs]).T\n",
    "#     nu_values     = np.log10(np.concatenate(nu_flux))\n",
    "#     nu_bar_values = np.log10(np.concatenate(nu_bar_flux))\n",
    "\n",
    "#     # Replace -infinities from log(0) with large neg values\n",
    "#     nu_values[np.where(np.isinf(nu_values))]         = -500\n",
    "#     nu_bar_values[np.where(np.isinf(nu_bar_values))] = -500\n",
    "    \n",
    "#     # Interpolate\n",
    "#     nu_gd          = griddata(points, nu_values,     (nu_e, nu_zen),         method=\"linear\")\n",
    "#     nu_bar_gd      = griddata(points, nu_bar_values, (nu_bar_e, nu_bar_zen), method=\"linear\")\n",
    "#     nu_interp      = np.power(10, nu_gd)\n",
    "#     nu_bar_interp  = np.power(10, nu_bar_gd)\n",
    "        \n",
    "#     nu_interp[np.where(nu_e>m)[0]]         = 0\n",
    "#     nu_bar_interp[np.where(nu_bar_e>m)[0]] = 0\n",
    "    \n",
    "#     # Save interpolated fluxes\n",
    "#     mc_flux           = np.zeros(len(mc[\"i\"]))\n",
    "#     mc_flux[nu_i]     = nu_interp\n",
    "#     mc_flux[nu_bar_i] = nu_bar_interp\n",
    "#     mc_flux[np.where(np.isnan(mc_flux))] = 0\n",
    "#     np.save(\"/Users/jlazar/Documents/IceCube/data/ch%d_m%d_mc_flux.npy\" % (ws_ch, m), mc_flux)\n",
    "#     return mc_flux"
   ]
  },
  {
   "cell_type": "code",
   "execution_count": 2,
   "metadata": {},
   "outputs": [],
   "source": [
    "# plz = interp_flux(\"tautau\", 3000)"
   ]
  },
  {
   "cell_type": "code",
   "execution_count": 3,
   "metadata": {},
   "outputs": [],
   "source": [
    "# for m in ms[2:]:\n",
    "#     for ch in chans:\n",
    "#         interp_flux(ch, m)"
   ]
  },
  {
   "cell_type": "code",
   "execution_count": 4,
   "metadata": {},
   "outputs": [],
   "source": [
    "# plt.plot(np.linspace(0,1,200), np.load(\"/Users/jlazar/Documents/IceCube/data/ch8_m1000_flux.npy\")[0][0])\n",
    "# plt.semilogy()\n",
    "# plt.xlabel(r\"$x=\\frac{E_{\\nu}}{m_{\\chi}}$\")\n",
    "# plt.ylabel(r\"$\\frac{dN_{\\oplus}}{dx}$\")\n",
    "# plt.grid(which=\"both\")\n",
    "# plt.title(r\"$\\chi\\chi\\rightarrow W^{+}W^{-}, m_{\\chi}=1000$ GeV\")\n",
    "# plt.show()"
   ]
  },
  {
   "cell_type": "code",
   "execution_count": 37,
   "metadata": {},
   "outputs": [
    {
     "data": {
      "image/png": "[encoded data removed]",
      "text/plain": [
       "<Figure size 1080x1080 with 1 Axes>"
      ]
     },
     "metadata": {},
     "output_type": "display_data"
    }
   ],
   "source": [
    "f = np.load(\"ch8_m1000_test.npy\")*1000\n",
    "plt.step(np.linspace(0.001,1,200), f[0],label=r\"$\\nu$\")\n",
    "plt.step(np.linspace(0.001,1,200), f[1],label=r\"$\\bar{\\nu}$\")\n",
    "plt.semilogy()\n",
    "plt.xlabel(r\"$x=\\frac{E_{\\nu}}{m_{\\chi}}$\")\n",
    "plt.ylabel(r\"$\\frac{dN_{\\oplus}}{dx}$\")\n",
    "plt.grid(which=\"both\")\n",
    "plt.legend()\n",
    "plt.ylim(1e-5,1)\n",
    "plt.xlim(0.1,1)\n",
    "plt.title(r\"$\\chi\\chi\\rightarrow W^{+}W^{-}, m_{\\chi}=1000$ GeV\")\n",
    "plt.show()"
   ]
  },
  {
   "cell_type": "markdown",
   "metadata": {},
   "source": [
    "## bb check"
   ]
  },
  {
   "cell_type": "code",
   "execution_count": 92,
   "metadata": {},
   "outputs": [],
   "source": [
    "end_i = 70\n",
    "nu_dn_dz = np.load(\"/data/user/jlazar/solar_WIMP/data/qr_dn_dz/ch5_m10000_dn_dz.npy\")[0][:,:end_i]\n",
    "nu_bar_dn_dz = np.load(\"/data/user/jlazar/solar_WIMP/data/qr_dn_dz/ch5_m10000_dn_dz.npy\")[1][:,:end_i]\n",
    "\n",
    "\n",
    "zens = np.linspace(80, 180, nu_bar_dn_dz.shape[0])\n",
    "ee  = np.linspace(1, 10000, 200)[:end_i]\n",
    "f   = RectBivariateSpline(zens, ee, np.log10(nu_dn_dz))\n",
    "\n",
    "def get_nu_dn_dz(e, z):\n",
    "    return np.power(10, f(z, e))\n"
   ]
  },
  {
   "cell_type": "code",
   "execution_count": 83,
   "metadata": {},
   "outputs": [
    {
     "name": "stdout",
     "output_type": "stream",
     "text": [
      "170\n",
      "170\n",
      "170\n",
      "170\n",
      "170\n",
      "170\n",
      "170\n",
      "170\n",
      "170\n",
      "170\n",
      "170\n",
      "170\n",
      "170\n",
      "170\n",
      "170\n",
      "170\n",
      "170\n",
      "170\n",
      "170\n",
      "170\n",
      "170\n",
      "170\n",
      "170\n",
      "170\n",
      "170\n",
      "170\n",
      "170\n",
      "170\n",
      "170\n",
      "170\n",
      "170\n",
      "170\n",
      "170\n",
      "170\n",
      "170\n",
      "170\n",
      "170\n",
      "170\n",
      "170\n",
      "170\n",
      "170\n",
      "170\n",
      "170\n",
      "170\n",
      "170\n",
      "170\n",
      "170\n",
      "170\n",
      "170\n",
      "170\n",
      "170\n",
      "170\n",
      "170\n",
      "170\n",
      "170\n",
      "170\n",
      "170\n",
      "170\n",
      "170\n",
      "170\n",
      "170\n",
      "170\n",
      "170\n",
      "170\n",
      "170\n",
      "170\n",
      "170\n",
      "170\n",
      "170\n",
      "170\n",
      "170\n",
      "170\n",
      "170\n",
      "170\n",
      "170\n",
      "170\n",
      "170\n",
      "170\n",
      "170\n",
      "170\n",
      "170\n",
      "170\n",
      "170\n",
      "170\n",
      "170\n",
      "170\n",
      "170\n",
      "170\n",
      "170\n",
      "170\n",
      "170\n",
      "170\n",
      "170\n",
      "170\n",
      "170\n",
      "170\n",
      "170\n",
      "170\n",
      "170\n",
      "170\n",
      "170\n",
      "[1.75737648e+00 6.38339302e+00 2.74791436e+00 1.50099677e+00\n",
      " 9.21543326e-01 5.72239977e-01 3.83029509e-01 2.66113854e-01\n",
      " 1.57877425e-01 9.93461496e-02 7.75721588e-02 4.70220611e-02\n",
      " 3.26080223e-02 2.44756681e-02 1.44784521e-02 8.39106522e-03\n",
      " 6.85268878e-03 4.82457436e-03 3.08694997e-03 2.30551126e-03\n",
      " 1.56611659e-03 9.40662884e-04 8.17895887e-04 4.46648153e-04\n",
      " 4.04273094e-04 2.46332672e-04 1.97650419e-04 1.21191335e-04\n",
      " 9.87755573e-05 4.91115865e-05 4.96403835e-05 2.99596900e-05\n",
      " 2.28251792e-05 1.64909639e-05 8.98336220e-06 8.17702889e-06\n",
      " 5.68843895e-06 3.45876870e-06 2.27086308e-06 1.61205099e-06\n",
      " 1.28905089e-06 1.05176584e-06 6.05135699e-07 3.87853016e-07\n",
      " 3.54317947e-07 1.97428566e-07 1.67364347e-07 1.26227149e-07\n",
      " 7.74522318e-08 6.14112212e-08 5.30437933e-08 4.20953765e-08\n",
      " 3.22170723e-08 2.46368156e-08 1.96796548e-08 1.69039044e-08\n",
      " 1.53780984e-08 1.43273157e-08 1.23348384e-08 8.45953458e-09\n",
      " 4.33743585e-09 4.56391402e-09 8.94208003e-09 8.50504034e-09\n",
      " 1.81079992e-09 3.51047590e-09 8.70694601e-09 1.03372808e-09\n",
      " 2.48252443e-09 7.12752364e-09]\n"
     ]
    }
   ],
   "source": [
    "for arr in np.load(\"/data/user/jlazar/solar_WIMP/data/qr_dn_dz/ch5_m10000_dn_dz.npy\")[1]:\n",
    "    print(min(np.where(~(arr>0))[0]))\n",
    "print nu_dn_dz[0]"
   ]
  },
  {
   "cell_type": "code",
   "execution_count": 61,
   "metadata": {},
   "outputs": [
    {
     "data": {
      "image/png": "[encoded data removed]",
      "text/plain": [
       "<matplotlib.figure.Figure at 0x7fbde3a75c50>"
      ]
     },
     "metadata": {},
     "output_type": "display_data"
    }
   ],
   "source": [
    "plt.plot(ee,nu_dn_dz[0])\n",
    "plt.plot(np.linspace(0,3500,50), get_nu_dn_dz(np.linspace(0,3500,50), 90.5)[0])\n",
    "plt.plot(ee,nu_bar_dn_dz[0])\n",
    "plt.semilogy()\n",
    "plt.show()"
   ]
  },
  {
   "cell_type": "code",
   "execution_count": 62,
   "metadata": {},
   "outputs": [],
   "source": [
    "# points = np.vstack([es,zs]).T\n",
    "# values = np.log10(np.concatenate(nu_flux))\n",
    "# values[np.where(np.isinf(values))] = -500"
   ]
  },
  {
   "cell_type": "code",
   "execution_count": 63,
   "metadata": {},
   "outputs": [],
   "source": [
    "# test = griddata(points[:400], values[:400], (es, 80.), method=\"cubic\")"
   ]
  },
  {
   "cell_type": "code",
   "execution_count": 64,
   "metadata": {},
   "outputs": [],
   "source": [
    "# flux = np.load(\" /ch8_m1000_flux.npy\")\n",
    "# nu_flux     = flux[0]\n",
    "# nu_bar_flux = flux[1]\n",
    "# n_zen       = nu_flux.shape[0]\n",
    "# n_en        = nu_flux.shape[1]\n",
    "# es          = np.tile(np.linspace(e_min, 1000, n_en), n_zen)\n",
    "# zs          = np.concatenate([np.full(n_en, zen) for zen in zens])"
   ]
  },
  {
   "cell_type": "code",
   "execution_count": 66,
   "metadata": {},
   "outputs": [],
   "source": [
    "# plt.plot(points.T[0][200:400], np.power(10, values[200:400]))\n",
    "# plt.plot(points.T[0][200:400], np.power(10, test[200:400]))\n",
    "# plt.semilogy()\n",
    "# plt.show()"
   ]
  },
  {
   "cell_type": "code",
   "execution_count": 67,
   "metadata": {},
   "outputs": [],
   "source": [
    "# flux = np.load(\"/Users/jlazar/Documents/IceCube/data/ch11_m3000_flux.npy\")\n",
    "# nu_flux     = flux[0]\n",
    "# nu_bar_flux = flux[1]\n",
    "# n_zen       = nu_flux.shape[0]\n",
    "# n_en        = nu_flux.shape[1]\n",
    "# es          = np.tile(np.linspace(e_min, 3000, n_en), n_zen)\n",
    "# zs          = np.concatenate([np.full(n_en, zen) for zen in zens])"
   ]
  },
  {
   "cell_type": "code",
   "execution_count": 68,
   "metadata": {},
   "outputs": [],
   "source": [
    "# points = np.vstack([es,zs]).T\n",
    "# values = np.log10(np.concatenate(nu_flux))\n",
    "# values[np.where(np.isinf(values))] = -500"
   ]
  },
  {
   "cell_type": "code",
   "execution_count": null,
   "metadata": {},
   "outputs": [],
   "source": []
  }
 ],
 "metadata": {
  "kernelspec": {
   "display_name": "Python 2",
   "language": "python",
   "name": "python2"
  },
  "language_info": {
   "codemirror_mode": {
    "name": "ipython",
    "version": 2
   },
   "file_extension": ".py",
   "mimetype": "text/x-python",
   "name": "python",
   "nbconvert_exporter": "python",
   "pygments_lexer": "ipython2",
   "version": "2.7.13"
  }
 },
 "nbformat": 4,
 "nbformat_minor": 2
}
