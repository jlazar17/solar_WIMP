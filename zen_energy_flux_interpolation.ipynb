{
 "cells": [
  {
   "cell_type": "code",
   "execution_count": 6,
   "metadata": {},
   "outputs": [],
   "source": [
    "import numpy as np\n",
    "# from scipy.stats import gaussian_kde as kde\n",
    "from scipy.interpolate import griddata\n",
    "\n",
    "import matplotlib.pyplot as plt\n",
    "plt.style.use(\"paper.mplstyle\")\n",
    "\n",
    "from physicsconstants import PhysicsConstants"
   ]
  },
  {
   "cell_type": "code",
   "execution_count": 7,
   "metadata": {},
   "outputs": [],
   "source": [
    "pc = PhysicsConstants()\n",
    "\n",
    "GeV = pc.GeV\n",
    "sec = pc.sec\n",
    "pbarn = pc.picobarn\n",
    "au = 1.496e+13 # cm\n",
    "solar_angle = 6.807e-5 # steradian "
   ]
  },
  {
   "cell_type": "code",
   "execution_count": 8,
   "metadata": {
    "code_folding": []
   },
   "outputs": [],
   "source": [
    "ms            = np.array([100, 250, 500, 1000, 3000, 5000, 10000])\n",
    "chans         = [\"bb\", \"WW\", \"tautau\"]\n",
    "ws_chans      = [5, 8, 11]\n",
    "ws_chan_dict  = {chans[i]:ws_chans[i] for i in range(3)}\n",
    "\n",
    "si_ann_rate_dict = {500   : 4.5418315143731186e+27,\n",
    "                    1000  : 1.3457320571730637e+27,\n",
    "                    3000  : 1.674577361367118e+26,\n",
    "                    5000  : 6.160055092277992e+25,\n",
    "                    10000 : 1.5644775205377196e+25\n",
    "                   } # 1/sec (xs=1 pb)\n",
    "\n",
    "sd_ann_rate_dict = {500   : 6.697084065971152e+24,\n",
    "                    1000  : 1.679607455216801e+24,\n",
    "                    3000  : 1.8680716988310504e+23,\n",
    "                    5000  : 6.7252930524968645e+22,\n",
    "                    10000 : 1.681276619465538e+22\n",
    "                   } # 1/sec (xs=1 pb)\n",
    "\n",
    "bb_sd_limit      = np.array([3.29e-03, 2.80e-03, 3.06e-03, 2.59e-03, 6.76e-03, 1.58e-02, 5.27e-02]) # picobarns\n",
    "ww_sd_limit      = np.array([9.52e-05, 5.30e-05, 3.76e-05, 6.80e-05, 5.42e-04, 1.37e-03, 5.96e-03]) # picobarns\n",
    "tt_sd_limit      = np.array([2.91e-05, 2.82e-05, 1.46e-05, 2.07e-05, 1.21e-04, 3.28e-04, 1.40e-03]) # picobarns\n",
    "bb_sd_limit_dict = {ms[i]:bb_sd_limit[i] for i in range(len(ms))}\n",
    "ww_sd_limit_dict = {ms[i]:ww_sd_limit[i] for i in range(len(ms))}\n",
    "tt_sd_limit_dict = {ms[i]:tt_sd_limit[i] for i in range(len(ms))}\n",
    "sd_limit_dict    = {\"bb\":bb_sd_limit_dict, \"WW\":ww_sd_limit_dict, \"tautau\":tt_sd_limit_dict}\n",
    "\n",
    "bb_si_limit = np.array([7.38e-06, 3.50e-06, 2.82e-06, 2.00e-06, 4.65e-06, 1.06e-05, 3.46e-05]) # picobarns\n",
    "ww_si_limit = np.array([2.13e-07, 6.62e-08, 3.49e-08, 5.28e-08, 3.70e-07, 9.14e-07, 3.88e-06]) # picobarns\n",
    "tt_si_limit = np.array([6.48e-08, 3.52e-08, 1.35e-08, 1.60e-08, 8.25e-08, 2.19e-07, 9.11e-07]) # picobarns\n",
    "bb_si_limit_dict = {ms[i]:bb_si_limit[i] for i in range(len(ms))}\n",
    "ww_si_limit_dict = {ms[i]:ww_si_limit[i] for i in range(len(ms))}\n",
    "tt_si_limit_dict = {ms[i]:tt_si_limit[i] for i in range(len(ms))}\n",
    "si_limit_dict    = {\"bb\":bb_si_limit_dict, \"WW\":ww_si_limit_dict, \"tautau\":tt_si_limit_dict}\n",
    "xs_limit_dict = {}\n",
    "xs_limit_dict[\"si\"] = si_limit_dict\n",
    "xs_limit_dict[\"sd\"] = sd_limit_dict"
   ]
  },
  {
   "cell_type": "code",
   "execution_count": 9,
   "metadata": {},
   "outputs": [],
   "source": [
    "zens  = np.linspace(80, 180, 101)\n",
    "e_min = 1"
   ]
  },
  {
   "cell_type": "code",
   "execution_count": 5,
   "metadata": {},
   "outputs": [
    {
     "ename": "FileNotFoundError",
     "evalue": "[Errno 2] No such file or directory: '/Users/jlazar/Documents/IceCube/data/ch8_m1000_flux.npy'",
     "output_type": "error",
     "traceback": [
      "\u001b[0;31m---------------------------------------------------------------------------\u001b[0m",
      "\u001b[0;31mFileNotFoundError\u001b[0m                         Traceback (most recent call last)",
      "\u001b[0;32m<ipython-input-5-d302ab0ce0e2>\u001b[0m in \u001b[0;36m<module>\u001b[0;34m()\u001b[0m\n\u001b[0;32m----> 1\u001b[0;31m \u001b[0mflux\u001b[0m \u001b[0;34m=\u001b[0m \u001b[0mnp\u001b[0m\u001b[0;34m.\u001b[0m\u001b[0mload\u001b[0m\u001b[0;34m(\u001b[0m\u001b[0;34m\"/Users/jlazar/Documents/IceCube/data/ch8_m1000_flux.npy\"\u001b[0m\u001b[0;34m)\u001b[0m\u001b[0;34m\u001b[0m\u001b[0m\n\u001b[0m\u001b[1;32m      2\u001b[0m \u001b[0mnu_flux\u001b[0m     \u001b[0;34m=\u001b[0m \u001b[0mflux\u001b[0m\u001b[0;34m[\u001b[0m\u001b[0;36m0\u001b[0m\u001b[0;34m]\u001b[0m\u001b[0;34m\u001b[0m\u001b[0m\n\u001b[1;32m      3\u001b[0m \u001b[0mnu_bar_flux\u001b[0m \u001b[0;34m=\u001b[0m \u001b[0mflux\u001b[0m\u001b[0;34m[\u001b[0m\u001b[0;36m1\u001b[0m\u001b[0;34m]\u001b[0m\u001b[0;34m\u001b[0m\u001b[0m\n\u001b[1;32m      4\u001b[0m \u001b[0mn_zen\u001b[0m       \u001b[0;34m=\u001b[0m \u001b[0mnu_flux\u001b[0m\u001b[0;34m.\u001b[0m\u001b[0mshape\u001b[0m\u001b[0;34m[\u001b[0m\u001b[0;36m0\u001b[0m\u001b[0;34m]\u001b[0m\u001b[0;34m\u001b[0m\u001b[0m\n\u001b[1;32m      5\u001b[0m \u001b[0mn_en\u001b[0m        \u001b[0;34m=\u001b[0m \u001b[0mnu_flux\u001b[0m\u001b[0;34m.\u001b[0m\u001b[0mshape\u001b[0m\u001b[0;34m[\u001b[0m\u001b[0;36m1\u001b[0m\u001b[0;34m]\u001b[0m\u001b[0;34m\u001b[0m\u001b[0m\n",
      "\u001b[0;32m~/anaconda3/lib/python3.6/site-packages/numpy/lib/npyio.py\u001b[0m in \u001b[0;36mload\u001b[0;34m(file, mmap_mode, allow_pickle, fix_imports, encoding)\u001b[0m\n\u001b[1;32m    426\u001b[0m         \u001b[0mown_fid\u001b[0m \u001b[0;34m=\u001b[0m \u001b[0;32mFalse\u001b[0m\u001b[0;34m\u001b[0m\u001b[0m\n\u001b[1;32m    427\u001b[0m     \u001b[0;32melse\u001b[0m\u001b[0;34m:\u001b[0m\u001b[0;34m\u001b[0m\u001b[0m\n\u001b[0;32m--> 428\u001b[0;31m         \u001b[0mfid\u001b[0m \u001b[0;34m=\u001b[0m \u001b[0mopen\u001b[0m\u001b[0;34m(\u001b[0m\u001b[0mos_fspath\u001b[0m\u001b[0;34m(\u001b[0m\u001b[0mfile\u001b[0m\u001b[0;34m)\u001b[0m\u001b[0;34m,\u001b[0m \u001b[0;34m\"rb\"\u001b[0m\u001b[0;34m)\u001b[0m\u001b[0;34m\u001b[0m\u001b[0m\n\u001b[0m\u001b[1;32m    429\u001b[0m         \u001b[0mown_fid\u001b[0m \u001b[0;34m=\u001b[0m \u001b[0;32mTrue\u001b[0m\u001b[0;34m\u001b[0m\u001b[0m\n\u001b[1;32m    430\u001b[0m \u001b[0;34m\u001b[0m\u001b[0m\n",
      "\u001b[0;31mFileNotFoundError\u001b[0m: [Errno 2] No such file or directory: '/Users/jlazar/Documents/IceCube/data/ch8_m1000_flux.npy'"
     ]
    }
   ],
   "source": [
    "# flux = np.load(\" /ch8_m1000_flux.npy\")\n",
    "# nu_flux     = flux[0]\n",
    "# nu_bar_flux = flux[1]\n",
    "# n_zen       = nu_flux.shape[0]\n",
    "# n_en        = nu_flux.shape[1]\n",
    "# es          = np.tile(np.linspace(e_min, 1000, n_en), n_zen)\n",
    "# zs          = np.concatenate([np.full(n_en, zen) for zen in zens])"
   ]
  },
  {
   "cell_type": "code",
   "execution_count": 5,
   "metadata": {},
   "outputs": [],
   "source": [
    "def interp_dn_dz(ch, m):\n",
    "    \n",
    "    ws_ch = ws_chan_dict[ch]\n",
    "    \n",
    "    # Load data files\n",
    "    dN_dz  = np.load(\"/Users/jlazar/Documents/IceCube/solar_WIMP/data/qr_dn_dz/ch%d_m%d_dn_dz.npy\" % (ws_ch, m))\n",
    "    mc     = np.load(\"/Users/jlazar/Documents/IceCube/data/mcRecarray.npy\")\n",
    "    \n",
    "    # Get all quantities from dN_dE file arranged\n",
    "    nu_flux     = dN_dz[0]\n",
    "    nu_bar_flux = dN_dz[1]\n",
    "    n_zen       = nu_flux.shape[0]\n",
    "    n_en        = nu_flux.shape[1]\n",
    "    es          = np.tile(np.linspace(e_min, m, n_en), n_zen)\n",
    "    zs          = np.concatenate([np.full(n_en, zen) for zen in zens])\n",
    "    \n",
    "    # Get all mc quantities ready\n",
    "    nu_i           = np.where(mc[\"i\"]==14)[0]\n",
    "    nu_bar_i       = np.where(mc[\"i\"]==-14)[0]\n",
    "    nu_e           = mc[\"nuE\"][nu_i]\n",
    "    nu_bar_e       = mc[\"nuE\"][nu_bar_i]\n",
    "    nu_zen         = np.degrees(mc[\"nuZen\"][nu_i])\n",
    "    nu_bar_zen     = np.degrees(mc[\"nuZen\"][nu_bar_i])\n",
    "    \n",
    "    \n",
    "    # Prepare points and values arrays\n",
    "    points        = np.vstack([es,zs]).T\n",
    "    nu_values     = np.log10(np.concatenate(nu_flux))\n",
    "    nu_bar_values = np.log10(np.concatenate(nu_bar_flux))\n",
    "\n",
    "    # Replace -infinities from log(0) with large neg values\n",
    "    nu_values[np.where(np.isinf(nu_values))]         = -500\n",
    "    nu_bar_values[np.where(np.isinf(nu_bar_values))] = -500\n",
    "    \n",
    "    # Interpolate\n",
    "    nu_gd          = griddata(points, nu_values,     (nu_e, nu_zen),         method=\"linear\")\n",
    "    nu_bar_gd      = griddata(points, nu_bar_values, (nu_bar_e, nu_bar_zen), method=\"linear\")\n",
    "    nu_interp      = np.power(10, nu_gd)\n",
    "    nu_bar_interp  = np.power(10, nu_bar_gd)\n",
    "        \n",
    "    nu_interp[np.where(nu_e>m)[0]]         = 0\n",
    "    nu_bar_interp[np.where(nu_bar_e>m)[0]] = 0\n",
    "    \n",
    "    # Save interpolated fluxes\n",
    "    mc_flux           = np.zeros(len(mc[\"i\"]))\n",
    "    mc_flux[nu_i]     = nu_interp\n",
    "    mc_flux[nu_bar_i] = nu_bar_interp\n",
    "    mc_flux[np.where(np.isnan(mc_flux))] = 0\n",
    "    np.save(\"/Users/jlazar/Documents/IceCube/solar_WIMP/data/qr_dn_dz/ch%d_m%d_mc_dn_dz.npy\" % (ws_ch, m), mc_flux)\n",
    "    return mc_flux"
   ]
  },
  {
   "cell_type": "code",
   "execution_count": null,
   "metadata": {},
   "outputs": [],
   "source": [
    "points = np.vstack([es,zs]).T\n",
    "values = np.log10(np.concatenate(nu_flux))\n",
    "values[np.where(np.isinf(values))] = -500"
   ]
  },
  {
   "cell_type": "code",
   "execution_count": null,
   "metadata": {},
   "outputs": [],
   "source": [
    "test = griddata(points[:400], values[:400], (es, 80.), method=\"cubic\")"
   ]
  },
  {
   "cell_type": "code",
   "execution_count": null,
   "metadata": {},
   "outputs": [],
   "source": [
    "plt.plot(points.T[0][200:400], np.power(10, values[200:400]))\n",
    "plt.plot(points.T[0][200:400], np.power(10, test[200:400]))\n",
    "plt.semilogy()\n",
    "plt.show()"
   ]
  },
  {
   "cell_type": "code",
   "execution_count": 48,
   "metadata": {},
   "outputs": [],
   "source": [
    "flux = np.load(\"/Users/jlazar/Documents/IceCube/data/ch11_m3000_flux.npy\")\n",
    "nu_flux     = flux[0]\n",
    "nu_bar_flux = flux[1]\n",
    "n_zen       = nu_flux.shape[0]\n",
    "n_en        = nu_flux.shape[1]\n",
    "es          = np.tile(np.linspace(e_min, 3000, n_en), n_zen)\n",
    "zs          = np.concatenate([np.full(n_en, zen) for zen in zens])"
   ]
  },
  {
   "cell_type": "code",
   "execution_count": 49,
   "metadata": {},
   "outputs": [
    {
     "name": "stderr",
     "output_type": "stream",
     "text": [
      "/Users/jlazar/anaconda3/lib/python3.6/site-packages/ipykernel_launcher.py:2: RuntimeWarning: divide by zero encountered in log10\n",
      "  \n",
      "/Users/jlazar/anaconda3/lib/python3.6/site-packages/ipykernel_launcher.py:2: RuntimeWarning: invalid value encountered in log10\n",
      "  \n"
     ]
    }
   ],
   "source": [
    "points = np.vstack([es,zs]).T\n",
    "values = np.log10(np.concatenate(nu_flux))\n",
    "values[np.where(np.isinf(values))] = -500"
   ]
  },
  {
   "cell_type": "code",
   "execution_count": 71,
   "metadata": {},
   "outputs": [
    {
     "data": {
      "text/plain": [
       "array(nan)"
      ]
     },
     "execution_count": 71,
     "metadata": {},
     "output_type": "execute_result"
    }
   ],
   "source": [
    "np.power(10, griddata(points, values, (2511.13002521, 21.68800973), method=\"linear\"))\n",
    "\n",
    "griddata(points, values, (2511.13002521, 21.68800973))"
   ]
  },
  {
   "cell_type": "code",
   "execution_count": 1,
   "metadata": {},
   "outputs": [],
   "source": [
    "# def interp_flux(ch, m):\n",
    "    \n",
    "#     ws_ch = ws_chan_dict[ch]\n",
    "    \n",
    "#     # Load data files\n",
    "#     dN_dE  = np.load(\"/Users/jlazar/Downloads/ch%d_m%d_flux.npy\" % (ws_ch, m))\n",
    "#     mc     = np.load(\"/Users/jlazar/Documents/IceCube/data/mcRecarray.npy\")\n",
    "    \n",
    "#     # Get all quantities from dN_dE file arranged\n",
    "#     flux        = dN_dE * (1./(4*np.pi*au**2)) * sd_ann_rate_dict[m] * sd_limit_dict[ch][m] / solar_angle\n",
    "#     nu_flux     = flux[0]\n",
    "#     nu_bar_flux = flux[1]\n",
    "#     n_zen       = nu_flux.shape[0]\n",
    "#     n_en        = nu_flux.shape[1]\n",
    "#     es          = np.tile(np.linspace(e_min, m, n_en), n_zen)\n",
    "#     zs          = np.concatenate([np.full(n_en, zen) for zen in zens])\n",
    "    \n",
    "#     # Get all mc quantities ready\n",
    "#     nu_i           = np.where(mc[\"i\"]==14)[0]\n",
    "#     nu_bar_i       = np.where(mc[\"i\"]==-14)[0]\n",
    "#     nu_e           = mc[\"nuE\"][nu_i]\n",
    "#     nu_bar_e       = mc[\"nuE\"][nu_bar_i]\n",
    "#     nu_zen         = np.degrees(mc[\"nuZen\"][nu_i])\n",
    "#     nu_bar_zen     = np.degrees(mc[\"nuZen\"][nu_bar_i])\n",
    "    \n",
    "    \n",
    "#     # Prepare points and values arrays\n",
    "#     points        = np.vstack([es,zs]).T\n",
    "#     nu_values     = np.log10(np.concatenate(nu_flux))\n",
    "#     nu_bar_values = np.log10(np.concatenate(nu_bar_flux))\n",
    "\n",
    "#     # Replace -infinities from log(0) with large neg values\n",
    "#     nu_values[np.where(np.isinf(nu_values))]         = -500\n",
    "#     nu_bar_values[np.where(np.isinf(nu_bar_values))] = -500\n",
    "    \n",
    "#     # Interpolate\n",
    "#     nu_gd          = griddata(points, nu_values,     (nu_e, nu_zen),         method=\"linear\")\n",
    "#     nu_bar_gd      = griddata(points, nu_bar_values, (nu_bar_e, nu_bar_zen), method=\"linear\")\n",
    "#     nu_interp      = np.power(10, nu_gd)\n",
    "#     nu_bar_interp  = np.power(10, nu_bar_gd)\n",
    "        \n",
    "#     nu_interp[np.where(nu_e>m)[0]]         = 0\n",
    "#     nu_bar_interp[np.where(nu_bar_e>m)[0]] = 0\n",
    "    \n",
    "#     # Save interpolated fluxes\n",
    "#     mc_flux           = np.zeros(len(mc[\"i\"]))\n",
    "#     mc_flux[nu_i]     = nu_interp\n",
    "#     mc_flux[nu_bar_i] = nu_bar_interp\n",
    "#     mc_flux[np.where(np.isnan(mc_flux))] = 0\n",
    "#     np.save(\"/Users/jlazar/Documents/IceCube/data/ch%d_m%d_mc_flux.npy\" % (ws_ch, m), mc_flux)\n",
    "#     return mc_flux"
   ]
  },
  {
   "cell_type": "code",
   "execution_count": 2,
   "metadata": {},
   "outputs": [],
   "source": [
    "# plz = interp_flux(\"tautau\", 3000)"
   ]
  },
  {
   "cell_type": "code",
   "execution_count": 3,
   "metadata": {},
   "outputs": [],
   "source": [
    "# for m in ms[2:]:\n",
    "#     for ch in chans:\n",
    "#         interp_flux(ch, m)"
   ]
  },
  {
   "cell_type": "code",
   "execution_count": 4,
   "metadata": {},
   "outputs": [],
   "source": [
    "# plt.plot(np.linspace(0,1,200), np.load(\"/Users/jlazar/Documents/IceCube/data/ch8_m1000_flux.npy\")[0][0])\n",
    "# plt.semilogy()\n",
    "# plt.xlabel(r\"$x=\\frac{E_{\\nu}}{m_{\\chi}}$\")\n",
    "# plt.ylabel(r\"$\\frac{dN_{\\oplus}}{dx}$\")\n",
    "# plt.grid(which=\"both\")\n",
    "# plt.title(r\"$\\chi\\chi\\rightarrow W^{+}W^{-}, m_{\\chi}=1000$ GeV\")\n",
    "# plt.show()"
   ]
  },
  {
   "cell_type": "code",
   "execution_count": 37,
   "metadata": {},
   "outputs": [
    {
     "data": {
      "image/png": "[encoded data removed]",
      "text/plain": [
       "<Figure size 1080x1080 with 1 Axes>"
      ]
     },
     "metadata": {},
     "output_type": "display_data"
    }
   ],
   "source": [
    "f = np.load(\"ch8_m1000_test.npy\")*1000\n",
    "plt.step(np.linspace(0.001,1,200), f[0],label=r\"$\\nu$\")\n",
    "plt.step(np.linspace(0.001,1,200), f[1],label=r\"$\\bar{\\nu}$\")\n",
    "plt.semilogy()\n",
    "plt.xlabel(r\"$x=\\frac{E_{\\nu}}{m_{\\chi}}$\")\n",
    "plt.ylabel(r\"$\\frac{dN_{\\oplus}}{dx}$\")\n",
    "plt.grid(which=\"both\")\n",
    "plt.legend()\n",
    "plt.ylim(1e-5,1)\n",
    "plt.xlim(0.1,1)\n",
    "plt.title(r\"$\\chi\\chi\\rightarrow W^{+}W^{-}, m_{\\chi}=1000$ GeV\")\n",
    "plt.show()"
   ]
  },
  {
   "cell_type": "markdown",
   "metadata": {},
   "source": [
    "## bb check"
   ]
  },
  {
   "cell_type": "code",
   "execution_count": null,
   "metadata": {},
   "outputs": [],
   "source": [
    "np.load()"
   ]
  }
 ],
 "metadata": {
  "kernelspec": {
   "display_name": "Python 3",
   "language": "python",
   "name": "python3"
  },
  "language_info": {
   "codemirror_mode": {
    "name": "ipython",
    "version": 3
   },
   "file_extension": ".py",
   "mimetype": "text/x-python",
   "name": "python",
   "nbconvert_exporter": "python",
   "pygments_lexer": "ipython3",
   "version": "3.6.5"
  }
 },
 "nbformat": 4,
 "nbformat_minor": 2
}
