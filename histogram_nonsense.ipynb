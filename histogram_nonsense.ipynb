{
 "cells": [
  {
   "cell_type": "code",
   "execution_count": 1,
   "metadata": {},
   "outputs": [],
   "source": [
    "import numpy as np\n",
    "import matplotlib\n",
    "%matplotlib inline\n",
    "import matplotlib.pyplot as plt\n",
    "import scipy\n",
    "import scipy.stats"
   ]
  },
  {
   "cell_type": "code",
   "execution_count": 2,
   "metadata": {},
   "outputs": [],
   "source": [
    "def cmf(pmf,axis=None):\n",
    "    if axis is None:\n",
    "        return np.concatenate([[0], np.cumsum(pmf)])\n",
    "    else:\n",
    "        shape = np.shape(pmf)\n",
    "        z_shape = np.copy(shape)\n",
    "        z_shape[axis] = 1\n",
    "        z = np.zeros(z_shape)\n",
    "        return np.concatenate([z, np.cumsum(pmf, axis=axis)], axis=axis)\n",
    "def pmf(cmf, axis=-1):\n",
    "    return np.diff(cmf, axis=axis)\n",
    "def interp(x, x0, x1, y0, y1):\n",
    "    r = np.empty(shape=np.shape(x))\n",
    "    mask_0 = x == x0\n",
    "    mask_1 = x == x1\n",
    "    mask_2 = ~np.logical_or(mask_0, mask_1)\n",
    "    r[mask_0] = y0[mask_0]\n",
    "    r[mask_1] = y1[mask_1]\n",
    "    r[mask_2] = y0[mask_2]+(x[mask_2]-x0[mask_2])*(y1[mask_2]-y0[mask_2])/(x1[mask_2]-x0[mask_2])\n",
    "    return r"
   ]
  },
  {
   "cell_type": "code",
   "execution_count": 3,
   "metadata": {},
   "outputs": [],
   "source": [
    "def cmf_interp_helper(cmf_0, edges_0, y_val, i_0):\n",
    "    x0s = []\n",
    "    # Determine where we are with respect to cmf_0\n",
    "    while i_0 < len(cmf_0)-1 and cmf_0[i_0] < y_val:\n",
    "        i_0 += 1\n",
    "    # cmf[i_0] is greater than or equal to y_val\n",
    "    if cmf_0[i_0] == y_val:\n",
    "        # Check for duplicate values\n",
    "        i_0_upper = i_0\n",
    "        while i_0_upper < len(cmf_0)-1 and cmf_0[i_0_upper] == y_val:\n",
    "            i_0_upper += 1\n",
    "        i_0_upper -= 1\n",
    "        if i_0 == i_0_upper:\n",
    "            # We don't have duplicate values\n",
    "            x0s.append(edges_0[i_0])\n",
    "        else:\n",
    "            # We have duplicate values\n",
    "            x0s.append(edges_0[i_0])\n",
    "            x0s.append(edges_0[i_0_upper])\n",
    "    else:\n",
    "        # Use cmf_0[i_0 - 1] for interpolation\n",
    "        x0 = interp(y_val, cmf_0[i_0-1], cmf_0[i_0], edges_0[i_0-1], edges_0[i_0])\n",
    "        x0s.append(x0)\n",
    "    return x0s, i_0\n",
    "\n",
    "def compute_interp_cmf(cmf_0, cmf_1, edges_0, edges_1, x):\n",
    "    y_vals = np.unique(np.concatenate([cmf_0, cmf_1]))\n",
    "    i_0 = 0\n",
    "    i_1 = 0\n",
    "    x_pairs = []\n",
    "    return_y = []\n",
    "    for y_val in y_vals:\n",
    "        x0s, i_0 = cmf_interp_helper(cmf_0, edges_0, y_val, i_0)\n",
    "        x1s, i_1 = cmf_interp_helper(cmf_1, edges_1, y_val, i_1)\n",
    "        pairs = [(x0, x1) for x0 in x0s for x1 in x1s]\n",
    "        x_pairs.extend(pairs)\n",
    "        return_y.extend([y_val]*len(pairs))\n",
    "    return_x = [x0*(1.0-x) + x1*x for x0, x1 in x_pairs]\n",
    "    return (np.array(x) for x in zip(*sorted(zip(return_y, return_x), key=lambda x: x[1])))\n"
   ]
  },
  {
   "cell_type": "code",
   "execution_count": 4,
   "metadata": {},
   "outputs": [],
   "source": [
    "def rebin_cmf(cmf_0, edges_0, edges_1):\n",
    "    r = np.empty(shape=len(edges_1))\n",
    "    mask_less = edges_1 < np.amin(edges_0)\n",
    "    mask_more = edges_1 >= np.amax(edges_0)\n",
    "    mask = ~np.logical_or(mask_less, mask_more)\n",
    "    r[mask_less] = 0.0\n",
    "    r[mask_more] = 1.0\n",
    "    \n",
    "    x_pos = np.digitize(edges_1[mask], bins=edges_0) - 1\n",
    "    y_vals = interp(edges_1[mask],\n",
    "           edges_0[x_pos], edges_0[x_pos+1],\n",
    "           cmf_0[x_pos], cmf_0[x_pos])\n",
    "    r[mask] = y_vals\n",
    "    return r"
   ]
  },
  {
   "cell_type": "code",
   "execution_count": 5,
   "metadata": {},
   "outputs": [],
   "source": [
    "# Prepare test data\n",
    "\n",
    "bins = np.linspace(0,10,13)\n",
    "\n",
    "data_3 = np.random.normal(3, 1.0, 100)\n",
    "data_5 = np.random.normal(5, 1.0, 100)\n",
    "\n",
    "hist_3 = np.histogram(data_3, bins=bins)[0]\n",
    "hist_5 = np.histogram(data_5, bins=bins)[0]\n",
    "\n",
    "pmf_3 = hist_3 / np.sum(hist_3)\n",
    "pmf_5 = hist_5 / np.sum(hist_5)\n",
    "\n",
    "cmf_3 = cmf(pmf_3)\n",
    "cmf_5 = cmf(pmf_5)"
   ]
  },
  {
   "cell_type": "code",
   "execution_count": 6,
   "metadata": {},
   "outputs": [
    {
     "name": "stdout",
     "output_type": "stream",
     "text": [
      "[0 0 0 0]\n",
      "[0.         4.58333333 4.58333333 9.16666667]\n"
     ]
    },
    {
     "data": {
      "text/plain": [
       "[<matplotlib.lines.Line2D at 0x7f0e9eae6f50>]"
      ]
     },
     "execution_count": 6,
     "metadata": {},
     "output_type": "execute_result"
    },
    {
     "data": {
      "image/png": "[encoded data removed]",
      "text/plain": [
       "<matplotlib.figure.Figure at 0x7f0ecc0d7b10>"
      ]
     },
     "metadata": {},
     "output_type": "display_data"
    }
   ],
   "source": [
    "cmf_4, edges_4 = compute_interp_cmf(cmf_3, cmf_5, bins, bins, 0.5)\n",
    "print(cmf_4)\n",
    "print(edges_4)\n",
    "cmf_4 = rebin_cmf(cmf_4, edges_4, bins)\n",
    "plt.plot(bins, cmf_3)\n",
    "plt.plot(bins, cmf_5)\n",
    "plt.plot(bins, cmf_4)"
   ]
  },
  {
   "cell_type": "code",
   "execution_count": 7,
   "metadata": {},
   "outputs": [
    {
     "data": {
      "text/plain": [
       "(array([0.  , 0.05, 0.19, 0.32, 0.24, 0.16, 0.03, 0.01, 0.  , 0.  ]),\n",
       " array([0.41666667, 1.33333333, 2.25      , 3.16666667, 4.08333333,\n",
       "        5.        , 5.91666667, 6.83333333, 7.75      , 8.66666667,\n",
       "        9.58333333]),\n",
       " <a list of 1 Patch objects>)"
      ]
     },
     "execution_count": 7,
     "metadata": {},
     "output_type": "execute_result"
    },
    {
     "data": {
      "image/png": "[encoded data removed]",
      "text/plain": [
       "<Figure size 432x288 with 1 Axes>"
      ]
     },
     "metadata": {},
     "output_type": "display_data"
    }
   ],
   "source": [
    "center = lambda x: (x[:-1] + x[1:])/2.0\n",
    "plt.hist(center(bins), weights=pmf(cmf_3), histtype='step')\n",
    "plt.hist(center(bins), weights=pmf(cmf_5), histtype='step')\n",
    "plt.hist(center(bins), weights=pmf(cmf_4), histtype='step')"
   ]
  },
  {
   "cell_type": "code",
   "execution_count": 8,
   "metadata": {},
   "outputs": [
    {
     "name": "stdout",
     "output_type": "stream",
     "text": [
      "[[0.   0.   0.   0.   0.   0.01 0.   0.   0.   0.   0.   0.  ]\n",
      " [0.   0.   0.01 0.02 0.   0.03 0.01 0.   0.   0.   0.   0.  ]\n",
      " [0.   0.   0.04 0.06 0.05 0.11 0.03 0.   0.   0.   0.   0.  ]\n",
      " [0.   0.   0.   0.06 0.04 0.03 0.05 0.   0.   0.   0.   0.  ]\n",
      " [0.   0.01 0.04 0.06 0.1  0.04 0.05 0.01 0.   0.   0.   0.  ]\n",
      " [0.   0.   0.   0.01 0.02 0.02 0.03 0.   0.   0.   0.   0.  ]\n",
      " [0.   0.   0.01 0.01 0.02 0.   0.01 0.01 0.   0.   0.   0.  ]\n",
      " [0.   0.   0.   0.   0.   0.   0.   0.   0.   0.   0.   0.  ]\n",
      " [0.   0.   0.   0.   0.   0.   0.   0.   0.   0.   0.   0.  ]\n",
      " [0.   0.   0.   0.   0.   0.   0.   0.   0.   0.   0.   0.  ]\n",
      " [0.   0.   0.   0.   0.   0.   0.   0.   0.   0.   0.   0.  ]\n",
      " [0.   0.   0.   0.   0.   0.   0.   0.   0.   0.   0.   0.  ]]\n",
      "[0.01 0.07 0.29 0.18 0.31 0.08 0.06 0.   0.   0.   0.   0.  ]\n",
      "[1. 1. 1. 1. 1. 1. 1. 0. 0. 0. 0. 0.]\n"
     ]
    }
   ],
   "source": [
    "# Prepare test data\n",
    "\n",
    "bins = np.linspace(0,10,13)\n",
    "\n",
    "data_3 = scipy.stats.multivariate_normal.rvs([3,3+1], size=100)\n",
    "data_5 = scipy.stats.multivariate_normal.rvs([5,5+1], size=100)\n",
    "\n",
    "hist_3 = np.histogramdd(data_3, bins=[bins,bins])[0]\n",
    "hist_5 = np.histogramdd(data_5, bins=[bins,bins])[0]\n",
    "\n",
    "pmf_3 = hist_3 / np.sum(hist_3)\n",
    "pmf_5 = hist_5 / np.sum(hist_5)\n",
    "\n",
    "print(pmf_3)\n",
    "\n",
    "pmf_3_0 = np.sum(pmf_3, axis=1)\n",
    "pmf_5_0 = np.sum(pmf_5, axis=1)\n",
    "\n",
    "print(pmf_3_0)\n",
    "\n",
    "pmf_3_1 = np.sum(pmf_3, axis=0)\n",
    "pmf_5_1 = np.sum(pmf_5, axis=0)\n",
    "\n",
    "pmf_3_0p = np.zeros(pmf_3.shape)\n",
    "np.divide(pmf_3, pmf_3_0[:,None], where=pmf_3_0[:,None] > 0, out=pmf_3_0p)\n",
    "print(np.sum(pmf_3_0p, axis=1))\n",
    "pmf_5_0p = np.zeros(pmf_5.shape)\n",
    "np.divide(pmf_5, pmf_5_0[:,None], where=pmf_5_0[:,None] > 0, out=pmf_5_0p)\n",
    "\n",
    "pmf_3_1p = np.zeros(pmf_3.shape)\n",
    "np.divide(pmf_3, pmf_3_1[None,:], where=pmf_3_1[None,:] > 0, out=pmf_3_1p)\n",
    "pmf_5_1p = np.zeros(pmf_5.shape)\n",
    "np.divide(pmf_5, pmf_5_1[None,:], where=pmf_5_1[None,:] > 0, out=pmf_5_1p)\n",
    "\n",
    "cmf_3_0 = cmf(pmf_3_0)\n",
    "cmf_5_0 = cmf(pmf_5_0)\n",
    "\n",
    "cmf_3_1 = cmf(pmf_3_1)\n",
    "cmf_3_1 = cmf(pmf_5_1)\n",
    "\n",
    "cmf_3_0p = cmf(pmf_3_0p, axis=1)\n",
    "cmf_5_0p = cmf(pmf_5_0p, axis=1)\n",
    "\n",
    "cmf_3_1p = cmf(pmf_3_1p, axis=0)\n",
    "cmf_3_1p = cmf(pmf_5_1p, axis=0)"
   ]
  },
  {
   "cell_type": "code",
   "execution_count": 9,
   "metadata": {},
   "outputs": [
    {
     "data": {
      "image/png": "[encoded data removed]",
      "text/plain": [
       "<Figure size 432x288 with 2 Axes>"
      ]
     },
     "metadata": {},
     "output_type": "display_data"
    },
    {
     "data": {
      "image/png": "[encoded data removed]",
      "text/plain": [
       "<Figure size 432x288 with 2 Axes>"
      ]
     },
     "metadata": {},
     "output_type": "display_data"
    }
   ],
   "source": [
    "cm = plt.get_cmap('plasma')\n",
    "X = np.array([bins]*len(bins))\n",
    "Y = X.T\n",
    "plt.pcolormesh(X, Y, pmf(cmf_3_0p, axis=1)*(pmf_3_0[:,None]), cmap=cm)\n",
    "cb = plt.colorbar()\n",
    "plt.show()\n",
    "\n",
    "cm = plt.get_cmap('plasma')\n",
    "X = np.array([bins]*len(bins))\n",
    "Y = X.T\n",
    "plt.pcolormesh(X, Y, pmf_3, cmap=cm)\n",
    "cb = plt.colorbar()\n",
    "plt.show()"
   ]
  },
  {
   "cell_type": "code",
   "execution_count": 10,
   "metadata": {},
   "outputs": [
    {
     "data": {
      "image/png": "[encoded data removed]",
      "text/plain": [
       "<Figure size 432x288 with 2 Axes>"
      ]
     },
     "metadata": {},
     "output_type": "display_data"
    }
   ],
   "source": [
    "cm = plt.get_cmap('plasma')\n",
    "X = np.array([bins]*len(bins))\n",
    "Y = X.T\n",
    "plt.pcolormesh(X, Y, pmf_5, cmap=cm)\n",
    "cb = plt.colorbar()"
   ]
  },
  {
   "cell_type": "code",
   "execution_count": null,
   "metadata": {},
   "outputs": [],
   "source": []
  }
 ],
 "metadata": {
  "kernelspec": {
   "display_name": "Python 2",
   "language": "python",
   "name": "python2"
  },
  "language_info": {
   "codemirror_mode": {
    "name": "ipython",
    "version": 2
   },
   "file_extension": ".py",
   "mimetype": "text/x-python",
   "name": "python",
   "nbconvert_exporter": "python",
   "pygments_lexer": "ipython2",
   "version": "2.7.13"
  }
 },
 "nbformat": 4,
 "nbformat_minor": 2
}
